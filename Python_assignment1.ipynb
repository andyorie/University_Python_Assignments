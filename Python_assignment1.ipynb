{
 "cells": [
  {
   "cell_type": "markdown",
   "metadata": {},
   "source": [
    "<h1>BIDA 6007 Analytical Methods for Text & Web Mining - Programming Assignment 1 - NumPy and Pandas</h1>"
   ]
  },
  {
   "cell_type": "markdown",
   "metadata": {},
   "source": [
    "<h2>1. Introduction to pandas Data Structures</h2><a class = \"anchor\" id = \"1\"></a>\n",
    "\n",
    "__[pandas](https://pandas.pydata.org/)__ contains high-level data structures and manipulation tools designed to make data analysis fast and easy in Python. **pandas** is built on top of __[NumPy](https://numpy.org)__ which makes it easy to use in NumPy-centric applications. To get started with pandas, we need to become comfortable with its two data structures: *Series* and *DataFrame*. Whilst not a universal solution for every problem, they provide a solid, easy-to-use basis for most applications."
   ]
  },
  {
   "cell_type": "markdown",
   "metadata": {},
   "source": [
    "### Author: Andy Orie\n",
    "## University Course: BIDA6007 Analytical Methods for Text and Web Mining\n",
    "## Date: Semester 3, 2019/ 2020"
   ]
  },
  {
   "cell_type": "markdown",
   "metadata": {},
   "source": [
    "<h3>1.1 Instructions</h3><a class = \"anchor\" id = \".1\"></a>\n",
    "\n",
    "1. **Note:** In the first code block, the required imports for this assignment have been set up. Do not alter or amend.\n",
    "2. **Note:** All imports and notebook setup must be included in the first code block.\n",
    "3. **Note:** Do not amend or otherwise tamper with Markdown and / or Code Blocks containing Questions and related instructions in any way. Exception: Inserting Answer Code in Code Block Cells Only.\n",
    "4. **Note:** In all code cells write all code in between lines indicated as: `begin code here` and `end code here` only.\n",
    "5. **Date Available:** Thursday June 11, 2020, 7:00 PM.\n",
    "6. **Due Date:** Thursday June 25, 2020, 11:59 PM.\n",
    "7. **Total Mark:** 100 marks (weighted 10% out of 100%)."
   ]
  },
  {
   "cell_type": "code",
   "execution_count": 1,
   "metadata": {},
   "outputs": [],
   "source": [
    "# common imports\n",
    "\n",
    "from pandas import Series, DataFrame\n",
    "import numpy as np\n",
    "import pandas as pd\n",
    "\n",
    "# common setup\n",
    "\n",
    "pd.set_option(\"display.max_rows\", 100)\n",
    "pd.set_option(\"display.max_columns\", 10)\n",
    "pd.set_option('display.width', 1000)\n",
    "pd.set_option('precision', 2)"
   ]
  },
  {
   "cell_type": "markdown",
   "metadata": {},
   "source": [
    "<h3>1.2 Question 1A (4 Marks)</h3><a class = \"anchor\" id = \"1.2\"></a>\n",
    "\n",
    "A Series is a one-dimensional array-like object containing an array of data (of any NumPy data type) and an associated array of data labels, referred to as its *index*. The simplest Series is formed from only an array of data.\n",
    "\n",
    "1. Using only a single line of code - Create a pandas Series object from a one-dimensional array containing the values 1 through 5 (including 5). Assign the newly created pandas Series object to a variable named `oneda`.\n",
    "\n",
    "2. Using only a single line of code - Examine the elements contained in the pandas Series object.\n",
    "\n",
    "**Note: Do not amend or otherwise modify Markdown and Code Blocks containing Questions and related instructions in any way. Exception: Inserting Answer Code.**"
   ]
  },
  {
   "cell_type": "code",
   "execution_count": 2,
   "metadata": {},
   "outputs": [
    {
     "name": "stdout",
     "output_type": "stream",
     "text": [
      "0    1\n",
      "1    2\n",
      "2    3\n",
      "3    4\n",
      "4    5\n",
      "dtype: int64\n"
     ]
    }
   ],
   "source": [
    "# create a pandas Series object from a one-dimensional array containing the values 1 through 5 (including 5)\n",
    "\n",
    "oneda =pd.Series([1,2,3,4,5])\n",
    "\n",
    "# examine the elements contained in the variable oneda\n",
    "print(oneda)"
   ]
  },
  {
   "cell_type": "markdown",
   "metadata": {},
   "source": [
    "<h3>1.3 Question 1B (10 Marks)</h3><a class = \"anchor\" id = \"1.3\"></a>\n",
    "\n",
    "The code block above produces a pandas Series, displaying the index on the left and the values on the right. Given that we neglected to specify an index for the data, a default index consisting of the integers 0 through N - 1 (where N is the length of the data) was created.\n",
    "\n",
    "We can obtain the array representation and index object of the Series via its values and index attributes, respectively.\n",
    "\n",
    "1. Using only a single line of code - Examine the array representation of the pandas Series object `oneda`.\n",
    "2. Using only a single line of code - Examine the index of the pandas Series object `oneda`.\n",
    "3. Using only a single line of code - Create an index variable called `index` to store the elements of an index containing the values A - E (including E).\n",
    "4. Using only a single line of code - Modify the newly created pandas Series object `oneda` by replacing its index values with the newly created index values A - E.\n",
    "5. Using only a single line of code - Examine the modified data contained in the pandas Series object `oneda`.\n",
    "\n",
    "**Note: Do not amend or otherwise modify Markdown and Code Blocks containing Questions and related instructions in any way. Exception: Inserting Answer Code.**"
   ]
  },
  {
   "cell_type": "code",
   "execution_count": 3,
   "metadata": {},
   "outputs": [
    {
     "name": "stdout",
     "output_type": "stream",
     "text": [
      "0    1\n",
      "1    2\n",
      "2    3\n",
      "3    4\n",
      "4    5\n",
      "dtype: int64\n",
      "----------New Line----------\n"
     ]
    },
    {
     "data": {
      "text/plain": [
       "RangeIndex(start=0, stop=5, step=1)"
      ]
     },
     "execution_count": 3,
     "metadata": {},
     "output_type": "execute_result"
    }
   ],
   "source": [
    "# examine the array representation of the pandas Series object oneda\n",
    "print(oneda)\n",
    "\n",
    "print(\"----------New Line----------\")\n",
    "\n",
    "# examine the elements contained within the pandas Series object oneda's index\n",
    "oneda.index"
   ]
  },
  {
   "cell_type": "code",
   "execution_count": 4,
   "metadata": {},
   "outputs": [
    {
     "name": "stdout",
     "output_type": "stream",
     "text": [
      "A    1\n",
      "B    2\n",
      "C    3\n",
      "D    4\n",
      "E    5\n",
      "dtype: int64\n"
     ]
    }
   ],
   "source": [
    "# using only a single line of code:\n",
    "    # modify the newly created pandas Series object oneda by creating an index identifying each data point with the index values A - E (including E)\n",
    "    # store the index in a variable called index\n",
    "\n",
    "index = (['A','B','C','D','E'])\n",
    "\n",
    "# using only a single line of code - assign the variable index to the pandas Series object oneda\n",
    "oneda.index = index\n",
    "\n",
    "# using only a single line of code - examine the data contained in the modified pandas Series object oneda\n",
    "print(oneda)"
   ]
  },
  {
   "cell_type": "markdown",
   "metadata": {},
   "source": [
    "<h3>2.1 Question 2A (10 Marks)</h3><a class = \"anchor\" id = \"2.1\"></a>\n",
    "\n",
    "1. Using only a single line of code - Create a new pandas Series object containing the values **6 - 10** (including 10). Store the newly created Series object in a variable called `oneda_two`. In creating the Series object, create an index with the values **F - J** (including J) and assign the index to the Series object `oneda_two`.\n",
    "2. Using only a single line of code - Examine the newly created pandas Series object `oneda_two`.\n",
    "3. Using a single line of code - Examine the elements contained within the Series object `oneda_two`'s index.\n",
    "4. Using only a single line of code and the pandas Series object variables `oneda` and `oneda_two`, create a two-dimensional ndarray variable called `twoda`.\n",
    "5. Using only a single line of code - Examine the ndarray variable `twoda`. \n",
    "\n",
    "**Note: Do not amend or otherwise modify Markdown and Code Blocks containing Questions and related instructions in any way. Exception: Inserting Answer Code.**"
   ]
  },
  {
   "cell_type": "code",
   "execution_count": 5,
   "metadata": {},
   "outputs": [
    {
     "name": "stdout",
     "output_type": "stream",
     "text": [
      "F     6\n",
      "G     7\n",
      "H     8\n",
      "I     9\n",
      "J    10\n",
      "dtype: int64\n"
     ]
    }
   ],
   "source": [
    "# using only a single line of code:\n",
    "    # create a pandas Series object with the values 6 through 10 (inclusive) called oneda_two.\n",
    "    # create an index identifying each data point with values ranging from F - J (inclusive).\n",
    "    # assign the index to the Series object oneda_two.\n",
    "\n",
    "oneda_two = pd.Series([6,7,8,9,10], index = ['F','G','H','I','J'])\n",
    "\n",
    "# using only a single line of code - examine the pandas Series object oneda_two\n",
    "print(oneda_two)"
   ]
  },
  {
   "cell_type": "code",
   "execution_count": 6,
   "metadata": {},
   "outputs": [
    {
     "data": {
      "text/plain": [
       "Index(['F', 'G', 'H', 'I', 'J'], dtype='object')"
      ]
     },
     "execution_count": 6,
     "metadata": {},
     "output_type": "execute_result"
    }
   ],
   "source": [
    "# using only a single line of code - examine the elements contained within the Series object oneda_two's index.\n",
    "\n",
    "oneda_two.index"
   ]
  },
  {
   "cell_type": "code",
   "execution_count": 7,
   "metadata": {},
   "outputs": [
    {
     "name": "stdout",
     "output_type": "stream",
     "text": [
      "   0  1  2  3   4\n",
      "0  1  2  3  4   5\n",
      "1  6  7  8  9  10\n"
     ]
    }
   ],
   "source": [
    "# using only a single line of code:\n",
    "    # create a two-dimensional array variable called twoda using the variables oneda and oneda_two\n",
    "\n",
    "twoda = pd.DataFrame(np.array([oneda,oneda_two]))\n",
    "\n",
    "# using only a single line of code - examine the ndarray twoda\n",
    "print(twoda)"
   ]
  },
  {
   "cell_type": "markdown",
   "metadata": {},
   "source": [
    "<h3>2.2 Question 2B (12 Marks)</h3><a class = \"anchor\" id = \"2.2\"></a>\n",
    "\n",
    "1. Using slicing and a single line of code - extract the elements of the ndarray `twoda` from rows 1 and 2 and columns 2 and 4 only. Store the extracted elements in a variable called `twoda_sample`.\n",
    "2. Using only a single line of code - Examine the newly created variable `twoda_sample`.\n",
    "3. Using no more than a single line of code, select the values of the elements contained in the pandas Series variable `oneda` with the index values **B, C and E only**. Store the extracted values in variable called `oneda_sample`.\n",
    "4. Using only a single line of code - Examine the variable `oneda_sample`.\n",
    "4. Using no more than a single line of code, select and extract the values of the elements contained in the pandas Series variable `oneda_two` with the index values **F through I**. Store the extracted elements in a variable called `oneda_two_sample`.\n",
    "5. Using no more than a single line of code - Examine the variable `oneda_two_sample`.\n",
    "\n",
    "**Note: Do not amend or otherwise modify Markdown and Code Blocks containing Questions and related instructions in any way. Exception: Inserting Answer Code.**"
   ]
  },
  {
   "cell_type": "code",
   "execution_count": 8,
   "metadata": {},
   "outputs": [
    {
     "name": "stdout",
     "output_type": "stream",
     "text": [
      "   2   4\n",
      "0  3   5\n",
      "1  8  10\n"
     ]
    }
   ],
   "source": [
    "# using only a single linde of code - extract the elements of the ndarray twoda contained in rows 1 and 2 and columns 2 and 4 only\n",
    "# assign the extracted values to a variable called twoda_sample\n",
    "twoda_sample = twoda.iloc[0:2, [2, 4]]\n",
    "\n",
    "# using only a single line of code examine the elements contained in the varaible twoda_sample\n",
    "print(twoda_sample)"
   ]
  },
  {
   "cell_type": "code",
   "execution_count": 9,
   "metadata": {},
   "outputs": [
    {
     "name": "stdout",
     "output_type": "stream",
     "text": [
      "B    2\n",
      "C    3\n",
      "E    5\n",
      "dtype: int64\n"
     ]
    }
   ],
   "source": [
    "# using only a single line of code:\n",
    "    # select and extract the elements contained in the pandas Series object variable oneda with index values B, C, and E only.\n",
    "    # store the extracted values in a newly created variable called oneda_sample\n",
    "\n",
    "oneda_sample = oneda.loc[['B','C','E']]\n",
    "\n",
    "# using only a single line of code - examine the elements contained in the variable oneda_sample\n",
    "print(oneda_sample)"
   ]
  },
  {
   "cell_type": "code",
   "execution_count": 10,
   "metadata": {},
   "outputs": [
    {
     "name": "stdout",
     "output_type": "stream",
     "text": [
      "F    6\n",
      "G    7\n",
      "H    8\n",
      "I    9\n",
      "dtype: int64\n"
     ]
    }
   ],
   "source": [
    "# using only a single line of code:\n",
    "    # select and extract the values of the elements contained in the pandas Series variable oneda_two with index values F through I.\n",
    "    # store the extracted values in a variable called oneda_two_sample\n",
    "oneda_two_sample = oneda_two.loc[['F','G','H','I']]\n",
    "\n",
    "# using only a single line of code - examine the variable oneda_sample\n",
    "print(oneda_two_sample)"
   ]
  },
  {
   "cell_type": "markdown",
   "metadata": {},
   "source": [
    "<h2>3.1 Question 3A (20 Marks)</h2><a class = \"anchor\" id = \"3.1\"></a>\n",
    "Another way to think about a Series is as a fixed-length, ordered Python dictionary, as it represents a mapping of index values to data values which can be substituted into many functions that expect a Python dictionary.\n",
    "\n",
    "1. Create a Python dictionary using the __[Template: Largest Cities of Trinidad and Tobago](https://en.wikipedia.org/wiki/Template:Largest_cities_of_Trinidad_and_Tobago)__ containing the Rank, Name, Municipality, and Population data for the largest cities in Trinidad and Tobago. Store the Trinidad and Tobago Largest Cities and Towns data in a variable called `data`.\n",
    "2. Using only a single line of code - Examine the data contained in the dictionary variable `data`.\n",
    "3. Represent the data contained in the Trinidad and Tobago Largest Cities and Towns `data` dictionary at **Question 3A1** as a pandas DataFrame called `ttdem_data`.\n",
    "4. Using only a single line of code - change the index to be consistent with the `Rank`.\n",
    "5. Using only a single line of code - modify the name of the index to be called `City Number`.\n",
    "6. Using only a single line of code - Examine the `ttdem_data`.\n",
    "\n",
    "**Note: Do not amend or otherwise modify Markdown and Code Blocks containing Questions and related instructions in any way. Exception: Inserting Answer Code.**"
   ]
  },
  {
   "cell_type": "code",
   "execution_count": 11,
   "metadata": {},
   "outputs": [
    {
     "name": "stdout",
     "output_type": "stream",
     "text": [
      "{'Rank': [1, 2, 3, 4, 5, 6, 7, 8, 9, 10, 11, 12, 13, 14, 15, 16, 17, 18, 19, 20], 'Name': ['Chaguanas', 'San Fernando', 'Port of Spain', 'Arima', 'Couva', 'Point Fortin', 'Princess Town', 'Diego Martin', 'Sangre Grande', 'Morvant', 'Scarborough', 'Tunapuna', 'Gasparillo', 'San Juan', 'Siparia', 'Claxton Bay', 'Penal', 'Fyzabad', 'Valencia', 'Freeport'], 'Municipality': ['Borough of Chaguanas', 'City of San Fernando', 'City of Port of Spain', 'The Royal Chartered Borough of Arima', 'Couva–Tabaquite–Talparo', 'Republic Borough of Point Fortin', 'Princes Town Regional', 'Diego Martin region', 'Sangre Grande Regional', 'San Juan–Laventille', 'Tobago', 'Tunapuna–Piarco', 'Couva–Tabaquite–Talparo', 'San Juan–Laventille', 'Siparia Regional', 'Couva–Tabaquite–Talparo', 'Penal–Debe', 'Siparia Regional', 'Sangre Grande Regional', 'Couva–Tabaquite–Talparo'], 'Population': [101297, 82997, 81142, 65623, 48858, 29579, 28335, 25370, 20630, 17591, 17537, 16626, 16426, 15752, 14535, 14436, 13860, 13099, 12327, 11850]}\n"
     ]
    }
   ],
   "source": [
    "# create a data dictionary of largest cities and towns in Trinidad and Tobago using the template: largest cities of Trinidad and Tobago\n",
    "# the data dictionary should contain the following keys: Rank, Name, Municipality, and Pop\n",
    "# store the dictionary in a variable named data\n",
    "# do not use any automated method for extracting data from the web or other web mining library or methodology\n",
    "# the dictionary must be constructed manually\n",
    "# preserve the order of the data as represented on the source table\n",
    "\n",
    "data = {'Rank':[1,2,3,4,5,6,7,8,9,10,11,12,13,14,15,16,17,18,19,20],\n",
    "       'Name':['Chaguanas','San Fernando','Port of Spain','Arima','Couva','Point Fortin','Princess Town','Diego Martin',\n",
    "              'Sangre Grande','Morvant','Scarborough','Tunapuna','Gasparillo','San Juan','Siparia','Claxton Bay','Penal',\n",
    "              'Fyzabad','Valencia','Freeport'],\n",
    "       'Municipality':['Borough of Chaguanas','City of San Fernando','City of Port of Spain','The Royal Chartered Borough of Arima',\n",
    "                      'Couva–Tabaquite–Talparo','Republic Borough of Point Fortin','Princes Town Regional','Diego Martin region',\n",
    "                      'Sangre Grande Regional','San Juan–Laventille','Tobago','Tunapuna–Piarco','Couva–Tabaquite–Talparo',\n",
    "                       'San Juan–Laventille','Siparia Regional','Couva–Tabaquite–Talparo','Penal–Debe','Siparia Regional',\n",
    "                       'Sangre Grande Regional','Couva–Tabaquite–Talparo'],\n",
    "       'Population':[101297,82997,81142,65623,48858,29579,28335,25370,20630,17591,17537,16626,16426,15752,14535,\n",
    "                     14436,13860,13099,12327,11850]}\n",
    "\n",
    "# examine the Trinidad and Tobago city and town demographic data\n",
    "print(data)"
   ]
  },
  {
   "cell_type": "code",
   "execution_count": 12,
   "metadata": {},
   "outputs": [
    {
     "name": "stdout",
     "output_type": "stream",
     "text": [
      "             Rank           Name                          Municipality  Population\n",
      "City Number                                                                       \n",
      "1               1      Chaguanas                  Borough of Chaguanas      101297\n",
      "2               2   San Fernando                  City of San Fernando       82997\n",
      "3               3  Port of Spain                 City of Port of Spain       81142\n",
      "4               4          Arima  The Royal Chartered Borough of Arima       65623\n",
      "5               5          Couva               Couva–Tabaquite–Talparo       48858\n",
      "6               6   Point Fortin      Republic Borough of Point Fortin       29579\n",
      "7               7  Princess Town                 Princes Town Regional       28335\n",
      "8               8   Diego Martin                   Diego Martin region       25370\n",
      "9               9  Sangre Grande                Sangre Grande Regional       20630\n",
      "10             10        Morvant                   San Juan–Laventille       17591\n",
      "11             11    Scarborough                                Tobago       17537\n",
      "12             12       Tunapuna                       Tunapuna–Piarco       16626\n",
      "13             13     Gasparillo               Couva–Tabaquite–Talparo       16426\n",
      "14             14       San Juan                   San Juan–Laventille       15752\n",
      "15             15        Siparia                      Siparia Regional       14535\n",
      "16             16    Claxton Bay               Couva–Tabaquite–Talparo       14436\n",
      "17             17          Penal                            Penal–Debe       13860\n",
      "18             18        Fyzabad                      Siparia Regional       13099\n",
      "19             19       Valencia                Sangre Grande Regional       12327\n",
      "20             20       Freeport               Couva–Tabaquite–Talparo       11850\n"
     ]
    }
   ],
   "source": [
    "# using a single line of code and the data dictionary - represent the data contained in the Trinidad and Tobago Largest Cities and Towns data dictionary at Question 3A1:\n",
    "    # as a pandas DataFrame with variable name ttdem_data\n",
    "\n",
    "ttdem_data = pd.DataFrame(data)\n",
    "\n",
    "# using only a single line of code - change the index of the ttdem_data DataFrame to be consistent with the Rank \n",
    "ttdem_data = pd.DataFrame(data, index = [1,2,3,4,5,6,7,8,9,10,11,12,13,14,15,16,17,18,19,20])\n",
    "\n",
    "# using only a single line of code - modify the name of the index to be called City Number\n",
    "ttdem_data.index.name = 'City Number'\n",
    "\n",
    "# using only a single line of code - examine the ttdem_data DataFrame\n",
    "print(ttdem_data)"
   ]
  },
  {
   "cell_type": "markdown",
   "metadata": {},
   "source": [
    "<h2>3.2 Question 3B pandas DataFrame (20 Marks)</h2><a class = \"anchor\" id = \"3.2\"></a>\n",
    "\n",
    "1. In a single line of code - Create a column called `GDP TT Millions`, in which store the value 161202 and insert the newly created column into the DataFrame immediately following the `Pop` feature.\n",
    "\n",
    "2. Compute the proportion of the total population represented by each city and town and store the value in a column called `Population Proportion`.\n",
    "\n",
    "3. Compute the relative proportion of total GDP contributed by each city or town and store the values in a column called `GDP Contribution Proxy`.\n",
    "\n",
    "4. Save the `ttdem_data` pandas DataFrame as an Excel .xlsx file named `ttdemdata.xlsx` for further analysis.\n",
    "\n",
    "5. Examine the modified `ttdem_data` DataFrame.\n",
    "\n",
    "**Note: Do not amend or otherwise modify Markdown and Code Blocks containing Questions and related instructions in any way. Exception: Inserting Answer Code.**"
   ]
  },
  {
   "cell_type": "code",
   "execution_count": 13,
   "metadata": {},
   "outputs": [
    {
     "data": {
      "text/html": [
       "<div>\n",
       "<style scoped>\n",
       "    .dataframe tbody tr th:only-of-type {\n",
       "        vertical-align: middle;\n",
       "    }\n",
       "\n",
       "    .dataframe tbody tr th {\n",
       "        vertical-align: top;\n",
       "    }\n",
       "\n",
       "    .dataframe thead th {\n",
       "        text-align: right;\n",
       "    }\n",
       "</style>\n",
       "<table border=\"1\" class=\"dataframe\">\n",
       "  <thead>\n",
       "    <tr style=\"text-align: right;\">\n",
       "      <th></th>\n",
       "      <th>Rank</th>\n",
       "      <th>Name</th>\n",
       "      <th>Municipality</th>\n",
       "      <th>Population</th>\n",
       "      <th>GDP TT Millions</th>\n",
       "      <th>Population Proportion</th>\n",
       "      <th>GDP Contribution Proxy</th>\n",
       "    </tr>\n",
       "    <tr>\n",
       "      <th>City Number</th>\n",
       "      <th></th>\n",
       "      <th></th>\n",
       "      <th></th>\n",
       "      <th></th>\n",
       "      <th></th>\n",
       "      <th></th>\n",
       "      <th></th>\n",
       "    </tr>\n",
       "  </thead>\n",
       "  <tbody>\n",
       "    <tr>\n",
       "      <th>1</th>\n",
       "      <td>1</td>\n",
       "      <td>Chaguanas</td>\n",
       "      <td>Borough of Chaguanas</td>\n",
       "      <td>101297</td>\n",
       "      <td>161202</td>\n",
       "      <td>0.16</td>\n",
       "      <td>25204.56</td>\n",
       "    </tr>\n",
       "    <tr>\n",
       "      <th>2</th>\n",
       "      <td>2</td>\n",
       "      <td>San Fernando</td>\n",
       "      <td>City of San Fernando</td>\n",
       "      <td>82997</td>\n",
       "      <td>161202</td>\n",
       "      <td>0.13</td>\n",
       "      <td>20651.18</td>\n",
       "    </tr>\n",
       "    <tr>\n",
       "      <th>3</th>\n",
       "      <td>3</td>\n",
       "      <td>Port of Spain</td>\n",
       "      <td>City of Port of Spain</td>\n",
       "      <td>81142</td>\n",
       "      <td>161202</td>\n",
       "      <td>0.13</td>\n",
       "      <td>20189.63</td>\n",
       "    </tr>\n",
       "    <tr>\n",
       "      <th>4</th>\n",
       "      <td>4</td>\n",
       "      <td>Arima</td>\n",
       "      <td>The Royal Chartered Borough of Arima</td>\n",
       "      <td>65623</td>\n",
       "      <td>161202</td>\n",
       "      <td>0.10</td>\n",
       "      <td>16328.21</td>\n",
       "    </tr>\n",
       "    <tr>\n",
       "      <th>5</th>\n",
       "      <td>5</td>\n",
       "      <td>Couva</td>\n",
       "      <td>Couva–Tabaquite–Talparo</td>\n",
       "      <td>48858</td>\n",
       "      <td>161202</td>\n",
       "      <td>0.08</td>\n",
       "      <td>12156.77</td>\n",
       "    </tr>\n",
       "  </tbody>\n",
       "</table>\n",
       "</div>"
      ],
      "text/plain": [
       "             Rank           Name                          Municipality  Population  GDP TT Millions  Population Proportion  GDP Contribution Proxy\n",
       "City Number                                                                                                                                       \n",
       "1               1      Chaguanas                  Borough of Chaguanas      101297           161202                   0.16                25204.56\n",
       "2               2   San Fernando                  City of San Fernando       82997           161202                   0.13                20651.18\n",
       "3               3  Port of Spain                 City of Port of Spain       81142           161202                   0.13                20189.63\n",
       "4               4          Arima  The Royal Chartered Borough of Arima       65623           161202                   0.10                16328.21\n",
       "5               5          Couva               Couva–Tabaquite–Talparo       48858           161202                   0.08                12156.77"
      ]
     },
     "execution_count": 13,
     "metadata": {},
     "output_type": "execute_result"
    }
   ],
   "source": [
    "# using only a single line of code for each computation and column insertion:\n",
    "\n",
    "# create a column called GDP TT Millions, in which store the value 161202 and insert the newly created column immediately following the Pop feature\n",
    "ttdem_data['GDP TT Millions']= np.array(161202)\n",
    "\n",
    "# compute the proportion of the total population represented by each city and town and store the values in a column called Population Proportion\n",
    "ttdem_data['Population Proportion']=ttdem_data['Population']/ttdem_data['Population'].sum()\n",
    "\n",
    "# compute the relative proportion of total GDP contributed by each city or town and store the values in a column called GDP Contribution Proxy\n",
    "ttdem_data['GDP Contribution Proxy']=ttdem_data['GDP TT Millions']*ttdem_data['Population Proportion']\n",
    "\n",
    "# save the ttdem_data DataFrame as an Excel .xlsx File named ttdemdata.xlsx for further analysis\n",
    "ttdem_data.to_excel('ttdemdata.xlsx')\n",
    "\n",
    "# examine the modified ttdem_data DataFrame\n",
    "ttdem_data.head()"
   ]
  },
  {
   "cell_type": "markdown",
   "metadata": {},
   "source": [
    "<h3>4.1 Question 4A Descriptive Statistics (4 Marks)</h3><a class = \"anchor\" id = \"4.1\"></a>\n",
    "\n",
    "1. Using a single line of code - Compute summary statistics for the features `Pop`, `GDP TT Millions`, `Population Proportion`, and `GDP Contribution Proxy`. Store the results in a variable called `summary_stats`.\n",
    "\n",
    "2. Using only a single line of code - Examine the computed Trinidad and Tobago summary statistics.\n",
    "\n",
    "**Note: Do not amend or otherwise modify Markdown and Code Blocks containing Questions and related instructions in any way. Exception: Inserting Answer Code.**"
   ]
  },
  {
   "cell_type": "code",
   "execution_count": 14,
   "metadata": {},
   "outputs": [
    {
     "name": "stdout",
     "output_type": "stream",
     "text": [
      "        Rank  Population  GDP TT Millions  Population Proportion  GDP Contribution Proxy\n",
      "count  20.00       20.00             20.0                  20.00                   20.00\n",
      "mean   10.50    32393.50         161202.0                   0.05                 8060.10\n",
      "std     5.92    27790.96              0.0                   0.04                 6914.90\n",
      "min     1.00    11850.00         161202.0                   0.02                 2948.50\n",
      "25%     5.75    14510.25         161202.0                   0.02                 3610.42\n",
      "50%    10.50    17564.00         161202.0                   0.03                 4370.25\n",
      "75%    15.25    34398.75         161202.0                   0.05                 8559.04\n",
      "max    20.00   101297.00         161202.0                   0.16                25204.56\n"
     ]
    }
   ],
   "source": [
    "# using only a single line of code:\n",
    "    # compute summary statistics for the features Pop, GDP TT Millions, Population Proportion, and GDP Contribution Proxy.\n",
    "    # store the results of the computation in a variable called summary_stats.\n",
    "summary_stats = ttdem_data.describe()\n",
    "\n",
    "# using only a single line of code - examine the computed summary statistics\n",
    "print(summary_stats)"
   ]
  },
  {
   "cell_type": "markdown",
   "metadata": {},
   "source": [
    "<h3>4.2 Question 4B Descriptive Statistics (6 Marks)</h3><a class = \"anchor\" id = \"4.2\"></a>\n",
    "\n",
    "1. Using only a single line of code - Compute the total population of the top 20 largest cities and towns in Trinidad and Tobago. Store the result in a variable called `totalpop`.\n",
    "\n",
    "2. Using only a single line of code - Compute the mean of the population of the top 20 largest cities and towns in Trinidad and Tobago. Store you result in a variable called `avgpop`.\n",
    "\n",
    "3. Examine the results from the variables `totalpop` and `avgpop`.\n",
    "\n",
    "**Note: Do not amend or otherwise modify Markdown and Code Blocks containing Questions and related instructions in any way. Exception: Inserting Answer Code.**"
   ]
  },
  {
   "cell_type": "code",
   "execution_count": 15,
   "metadata": {},
   "outputs": [
    {
     "name": "stdout",
     "output_type": "stream",
     "text": [
      "The Total Population of Trinidad and Tobago's Top 20 Largest Cities and Towns was estimated to be 647870.\n",
      "----------New Line----------\n",
      "Trinidad and Tobago has an average Top 20 Largest Cities and Towns population of Population    32393.5\n",
      "dtype: float64.\n"
     ]
    }
   ],
   "source": [
    "# using a single line of code:\n",
    "    # compute the total population of the top 20 largest cities and towns in Trinidad and Tobago.\n",
    "    # store the result in a variable called `totalpop`\n",
    "\n",
    "totalpop = ttdem_data['Population'].sum()\n",
    "\n",
    "# using only a single line of code - examine the total population for the top 20 largest cities and towns in Trinidad and Tobago\n",
    "print(\"The Total Population of Trinidad and Tobago's Top 20 Largest Cities and Towns was estimated to be {}.\".format(totalpop))\n",
    "\n",
    "print(\"----------New Line----------\")\n",
    "\n",
    "# using only a single line of code - compute the mean of the population of the top 20 largest cities and towns in Trinidad and Tobago.\n",
    "# store the result in a variable called `avgpop`.\n",
    "avgpop= ttdem_data.loc[ : , ['Population']].mean()\n",
    "\n",
    "# using only a single line of code examine the average population of the largest cities and towns in Trinidad and Tobago\n",
    "print(\"Trinidad and Tobago has an average Top 20 Largest Cities and Towns population of {}.\".format(avgpop))"
   ]
  },
  {
   "cell_type": "markdown",
   "metadata": {},
   "source": [
    "<h3>5.1 Question 5A Extracting Data from DataFrames (6 Marks)</h3><a class = \"anchor\" id = \"5.1\"></a>\n",
    "\n",
    "1. Using only a single line of code - Extract the data containing or representing the ten most populous cities and towns in Trinidad and Tobago based on the `ttdem_data` dataset. Store the results as a new DataFrame called `tttop`.\n",
    "\n",
    "2. Using only a single line of code - Extract the data containing or representing the 10 least populous cities and towns in Trinidad and Tobago based on the dataset. Store the results as a new DataFrame called `ttbottom`.\n",
    "\n",
    "3. Using only a single linde of code - Examine the results of the DataFrame `tttop`.\n",
    "\n",
    "4. Using only a single line of code - Examine the results of the DataFrame `ttbottom`.\n",
    "\n",
    "**Note: Do not amend or otherwise modify Markdown and Code Blocks containing Questions and related instructions in any way. Exception: Inserting Answer Code.**"
   ]
  },
  {
   "cell_type": "code",
   "execution_count": 16,
   "metadata": {},
   "outputs": [
    {
     "name": "stdout",
     "output_type": "stream",
     "text": [
      "             Rank           Name                          Municipality  Population  GDP TT Millions  Population Proportion  GDP Contribution Proxy\n",
      "City Number                                                                                                                                       \n",
      "1               1      Chaguanas                  Borough of Chaguanas      101297           161202                   0.16                25204.56\n",
      "2               2   San Fernando                  City of San Fernando       82997           161202                   0.13                20651.18\n",
      "3               3  Port of Spain                 City of Port of Spain       81142           161202                   0.13                20189.63\n",
      "4               4          Arima  The Royal Chartered Borough of Arima       65623           161202                   0.10                16328.21\n",
      "5               5          Couva               Couva–Tabaquite–Talparo       48858           161202                   0.08                12156.77\n",
      "6               6   Point Fortin      Republic Borough of Point Fortin       29579           161202                   0.05                 7359.80\n",
      "7               7  Princess Town                 Princes Town Regional       28335           161202                   0.04                 7050.27\n",
      "8               8   Diego Martin                   Diego Martin region       25370           161202                   0.04                 6312.52\n",
      "9               9  Sangre Grande                Sangre Grande Regional       20630           161202                   0.03                 5133.12\n",
      "10             10        Morvant                   San Juan–Laventille       17591           161202                   0.03                 4376.97\n",
      "----------New Line----------\n",
      "             Rank         Name             Municipality  Population  GDP TT Millions  Population Proportion  GDP Contribution Proxy\n",
      "City Number                                                                                                                        \n",
      "11             11  Scarborough                   Tobago       17537           161202                   0.03                 4363.53\n",
      "12             12     Tunapuna          Tunapuna–Piarco       16626           161202                   0.03                 4136.86\n",
      "13             13   Gasparillo  Couva–Tabaquite–Talparo       16426           161202                   0.03                 4087.09\n",
      "14             14     San Juan      San Juan–Laventille       15752           161202                   0.02                 3919.39\n",
      "15             15      Siparia         Siparia Regional       14535           161202                   0.02                 3616.58\n",
      "16             16  Claxton Bay  Couva–Tabaquite–Talparo       14436           161202                   0.02                 3591.94\n",
      "17             17        Penal               Penal–Debe       13860           161202                   0.02                 3448.62\n",
      "18             18      Fyzabad         Siparia Regional       13099           161202                   0.02                 3259.27\n",
      "19             19     Valencia   Sangre Grande Regional       12327           161202                   0.02                 3067.18\n",
      "20             20     Freeport  Couva–Tabaquite–Talparo       11850           161202                   0.02                 2948.50\n"
     ]
    }
   ],
   "source": [
    "# using only a single line of code:\n",
    "    # extract the data containing or representing the ten most populous cities and towns in Trinidad and Tobago based on the ttdem_data dataset.\n",
    "    # store the results as a new DataFrame called `tttop`.\n",
    "\n",
    "tttop = ttdem_data.head(10)\n",
    "\n",
    "# using no more than a single line of code:\n",
    "    # extract the data containing or representing the 10 least populous cities and towns in Trinidad and Tobago based on the ttdem_data dataset.\n",
    "    # store the results as a new DataFrame called `ttbottom`.\n",
    "ttbottom = ttdem_data.tail(10)\n",
    "\n",
    "# using a single line of code - examine the results of the DataFrame `tttop`.\n",
    "print(tttop)\n",
    "\n",
    "print(\"----------New Line----------\")\n",
    "\n",
    "# using a single line of code - examine the results of the DataFrame `ttbottom`.\n",
    "print(ttbottom)\n"
   ]
  },
  {
   "cell_type": "markdown",
   "metadata": {},
   "source": [
    "<h3>5.2 Question 5B Extracting Data from DataFrames (8 Marks)</h3><a class = \"anchor\" id = \"5.2\"></a>\n",
    "\n",
    "1. Extract the following data from the `ttdem_data` dataset: Features: `Rank`, `Name`, `Municipality`, `Pop`, `Population Proportion`, and `GDP Contribution Proxy` for cities and towns in Trinidad and Tobago containing a population greater than 20,000 persons. Store the results in a DataFrame called `toppop`.\n",
    "\n",
    "2. Save the results of the analysis to an Excel .xlsx file named `toppop.xlsx` for further analysis.\n",
    "\n",
    "3. Extract the following data from the dataset: Features: `Rank`, `Name`, `Municipality`, `Pop`, `Population Proportion`, and `GDP Contribution Proxy` for cities and towns in Trinidad and Tobago containing a population proportion greater than or equal to 0.05 percent of the total population. Store the results in a DataFrame called `toppoppr`.\n",
    "\n",
    "4. Save the results of the analysis to an Excel .xlsx file named `toppoppr.xlsx` for further analysis.\n",
    "\n",
    "5. Examine the results of the variables `toppop` and `toppoppr`.\n",
    "\n",
    "**Note: Do not amend or otherwise modify Markdown and Code Blocks containing Questions and related instructions in any way. Exception: Inserting Answer Code.**"
   ]
  },
  {
   "cell_type": "code",
   "execution_count": 17,
   "metadata": {},
   "outputs": [
    {
     "name": "stdout",
     "output_type": "stream",
     "text": [
      "             Rank           Name                          Municipality  Population  Population Proportion  GDP Contribution Proxy\n",
      "City Number                                                                                                                      \n",
      "1               1      Chaguanas                  Borough of Chaguanas      101297                   0.16                25204.56\n",
      "2               2   San Fernando                  City of San Fernando       82997                   0.13                20651.18\n",
      "3               3  Port of Spain                 City of Port of Spain       81142                   0.13                20189.63\n",
      "4               4          Arima  The Royal Chartered Borough of Arima       65623                   0.10                16328.21\n",
      "5               5          Couva               Couva–Tabaquite–Talparo       48858                   0.08                12156.77\n",
      "6               6   Point Fortin      Republic Borough of Point Fortin       29579                   0.05                 7359.80\n",
      "7               7  Princess Town                 Princes Town Regional       28335                   0.04                 7050.27\n",
      "8               8   Diego Martin                   Diego Martin region       25370                   0.04                 6312.52\n",
      "9               9  Sangre Grande                Sangre Grande Regional       20630                   0.03                 5133.12\n"
     ]
    }
   ],
   "source": [
    "# using no more than a single line of code - extract the following data from the dataset:\n",
    "    # Features: `Rank`, `Name`, `Municipality`, `Pop`, `Population Proportion`, and `GDP Contribution Proxy`, for cities and towns in Trinidad and Tobago containing a population greater than 20,000 persons.\n",
    "# store the results in a DataFrame called `toppop`.\n",
    "\n",
    "toppop = ttdem_data[['Rank','Name','Municipality','Population','Population Proportion','GDP Contribution Proxy']][ttdem_data['Population']>20000]\n",
    "\n",
    "# save the results of the analysis to an .xlsx file named toppop.xlsx for further analysis\n",
    "toppop.to_excel('toppop.xlsx', index = False)\n",
    "\n",
    "# examine the toppop dataset\n",
    "print(toppop)          "
   ]
  },
  {
   "cell_type": "code",
   "execution_count": 18,
   "metadata": {},
   "outputs": [
    {
     "name": "stdout",
     "output_type": "stream",
     "text": [
      "             Rank           Name                          Municipality  Population  Population Proportion  GDP Contribution Proxy\n",
      "City Number                                                                                                                      \n",
      "1               1      Chaguanas                  Borough of Chaguanas      101297                   0.16                25204.56\n",
      "2               2   San Fernando                  City of San Fernando       82997                   0.13                20651.18\n",
      "3               3  Port of Spain                 City of Port of Spain       81142                   0.13                20189.63\n",
      "4               4          Arima  The Royal Chartered Borough of Arima       65623                   0.10                16328.21\n",
      "5               5          Couva               Couva–Tabaquite–Talparo       48858                   0.08                12156.77\n"
     ]
    }
   ],
   "source": [
    "# using no more than a single line of code - extract the following data from the dataset:\n",
    "    # Features: `Rank`, `Name`, `Municipality`, `Pop`, `Population Proportion`, and `GDP Contribution Proxy`, for cities and towns containing:\n",
    "        # a population proportion equal to or greater than 5 percent of the total population.\n",
    "    # store the results in a DataFrame called toppoppr`.\n",
    "\n",
    "toppoppr = ttdem_data[['Rank','Name','Municipality','Population','Population Proportion','GDP Contribution Proxy']][ttdem_data['Population Proportion']>=0.05]\n",
    "\n",
    "# save the results of the analysis as an .xlsx file named toppoppr.xlsx for further analysis\n",
    "toppoppr.to_excel('toppoppr.xlsx', index =False)\n",
    "\n",
    "# examine the toppoppr dataset\n",
    "print(toppoppr)"
   ]
  },
  {
   "cell_type": "markdown",
   "metadata": {},
   "source": [
    "<h2>6. Submission</h2><a class = \"anchor\" id = \"6\"></a>\n",
    "\n",
    "1. Save the results of Questions 3B and 5B as `.xlsx` files. Upload all saved Excel files together with your completed IPython Notebook to the eLearning assignment tab.\n",
    "2. At the top of **all** submitted files, you should include the following information:\n",
    "    - Full Name\n",
    "    - Student ID Number\n",
    "    - Official Student Email\n",
    "    - Course Code & Title\n",
    "    - Trimester & Year\n",
    "3. Submit your assignment files including all `.xlsx` and `.ipynb` files to the eLearning assignment folder.\n",
    "4. All files submitted for this assignment should be titled `your_student_number_filename.ipynb` and `your_student_number_filename.xlsx` for example.\n",
    "5. Late submission penalty of 10% per day for up to five days applies for all submissions received from the expiration of the submission date of **Thursday June 25, 2020, 11:59 PM**. "
   ]
  },
  {
   "cell_type": "markdown",
   "metadata": {},
   "source": [
    "<h2>7. End of BIDA 6007 Analytical Methods for Text & Web Mining - Programming Assignment 1</h2><a class = \"anchor\" id = \"7\"></a>"
   ]
  }
 ],
 "metadata": {
  "kernelspec": {
   "display_name": "Python 3",
   "language": "python",
   "name": "python3"
  },
  "language_info": {
   "codemirror_mode": {
    "name": "ipython",
    "version": 3
   },
   "file_extension": ".py",
   "mimetype": "text/x-python",
   "name": "python",
   "nbconvert_exporter": "python",
   "pygments_lexer": "ipython3",
   "version": "3.8.8"
  }
 },
 "nbformat": 4,
 "nbformat_minor": 4
}
